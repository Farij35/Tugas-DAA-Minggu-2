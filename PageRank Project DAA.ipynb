{
 "cells": [
  {
   "cell_type": "code",
   "execution_count": null,
   "metadata": {},
   "outputs": [],
   "source": [
    "import networkx as nx\n",
    "import numpy as np\n",
    "import matplotlib.pyplot as plt\n",
    "%matplotlib inline\n",
    "\n",
    "def initialize_node_points(G):\n",
    "    initial_node_points = [1 / G.number_of_nodes() for _ in range(G.number_of_nodes())]\n",
    "    return G, initial_node_points"
   ]
  },
  {
   "cell_type": "code",
   "execution_count": null,
   "metadata": {},
   "outputs": [],
   "source": [
    "iteration_counter = 0\n",
    "def update_node_points(G, previous_node_points):\n",
    "    global iteration_counter\n",
    "    iteration_counter += 1\n",
    "    updated_node_points = [0 for _ in range(G.number_of_nodes())]\n",
    "    for node in G.nodes():\n",
    "        node_references = G.out_edges(node)\n",
    "        if len(node_references) == 0:\n",
    "            updated_node_points[node] += previous_node_points[node]\n",
    "        else:\n",
    "            share = previous_node_points[node] / len(node_references)\n",
    "            for each_reference in node_references:\n",
    "                updated_node_points[each_reference[1]] += share\n",
    "    return updated_node_points, iteration_counter"
   ]
  },
  {
   "cell_type": "code",
   "execution_count": null,
   "metadata": {},
   "outputs": [],
   "source": [
    "def keep_updating_until_convergence(G, initial_node_points):\n",
    "    convergence_value = 0.00001\n",
    "    previous_node_points = initial_node_points\n",
    "    while True:\n",
    "        updated_node_points, iteration_counter = update_node_points(G, previous_node_points)\n",
    "        for index in range(G.number_of_nodes()):\n",
    "            if abs(updated_node_points[index] - previous_node_points[index]) > convergence_value:\n",
    "                break\n",
    "        else:\n",
    "            return updated_node_points, iteration_counter\n",
    "        previous_node_points = updated_node_points"
   ]
  },
  {
   "cell_type": "code",
   "execution_count": 33,
   "metadata": {},
   "outputs": [
    {
     "data": {
      "image/png": "[encoded data removed]",
      "text/plain": [
       "<Figure size 432x288 with 1 Axes>"
      ]
     },
     "metadata": {},
     "output_type": "display_data"
    },
    {
     "name": "stdout",
     "output_type": "stream",
     "text": [
      "Nodes ordered by Page Ranks: B D A C E \n",
      "\n",
      "1. Node: 'B' has PageRank value: 0.300006\n",
      "2. Node: 'D' has PageRank value: 0.300000\n",
      "3. Node: 'A' has PageRank value: 0.199999\n",
      "4. Node: 'C' has PageRank value: 0.099997\n",
      "5. Node: 'E' has PageRank value: 0.099997\n",
      "\n",
      "Convergence is achieved after 16067255 iterations (Convergence value: 0.00001)\n"
     ]
    }
   ],
   "source": [
    "def main():\n",
    "    G = nx.DiGraph()\n",
    "    nodes = [i for i in range(0,5)]\n",
    "    nodes_dictionary = {0:'A', 1:'B', 2:'C', 3:'D', 4:'E'}\n",
    "    edges = [(0,1), (2,1), (1,3), (2,1), (3,0), (3,2), (3,4), (4,0)]\n",
    "    G.add_nodes_from(nodes)\n",
    "    G.add_edges_from(edges)\n",
    "    G, initial_node_points = initialize_node_points(G)\n",
    "    pos=nx.shell_layout(G)\n",
    "    nx.draw(G, pos, arrows=True, with_labels=True)\n",
    "    plt.show()\n",
    "    \n",
    "    pageranks, iteration_counter = keep_updating_until_convergence(G, initial_node_points)\n",
    "    pageranks_array = np.array(pageranks)\n",
    "    node_index_sorted_by_pageranks = np.argsort(-pageranks_array)\n",
    "    print(\"Nodes ordered by Page Ranks:\", end =' ')\n",
    "    for index in node_index_sorted_by_pageranks:\n",
    "        print(nodes_dictionary[index], end =' ')\n",
    "    print('\\n')\n",
    "    for rank, (index, PR) in enumerate(zip(node_index_sorted_by_pageranks, sorted(pageranks, reverse = True)), start = 1):\n",
    "        print(f\"{rank}. Node: '{nodes_dictionary[index]}' has PageRank value: {'%.6f' % PR}\")\n",
    "    print(f\"\\nConvergence is achieved after {iteration_counter} iterations (Convergence value: 0.00001)\")\n",
    "    \n",
    "if __name__ == \"__main__\":\n",
    "    main()"
   ]
  },
  {
   "cell_type": "code",
   "execution_count": null,
   "metadata": {},
   "outputs": [],
   "source": []
  }
 ],
 "metadata": {
  "kernelspec": {
   "display_name": "Python 3",
   "language": "python",
   "name": "python3"
  },
  "language_info": {
   "codemirror_mode": {
    "name": "ipython",
    "version": 3
   },
   "file_extension": ".py",
   "mimetype": "text/x-python",
   "name": "python",
   "nbconvert_exporter": "python",
   "pygments_lexer": "ipython3",
   "version": "3.8.3"
  }
 },
 "nbformat": 4,
 "nbformat_minor": 4
}
