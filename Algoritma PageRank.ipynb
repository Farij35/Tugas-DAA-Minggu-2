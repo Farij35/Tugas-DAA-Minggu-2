{
 "cells": [
  {
   "cell_type": "markdown",
   "metadata": {},
   "source": [
    "#### Algoritma PageRank\n",
    "adalah sebuah algoritma yang berfungsi menentukan situs web mana yang lebih penting/populer.\n",
    "PageRank merupakan salah satu fitur utama mesin pencari Google dan diciptakan oleh\n",
    "pendirinya, Larry Page dan Sergey Brin yang merupakan mahasiswa Ph.D. Universitas Stanford.\n",
    "Dengan algoritma PageRank ini, dalam setiap halaman akan diperhitungkan inbound link (link\n",
    "masuk) dan outbound link (link keluar) dari setiap halaman web. Sebuah situs akan semakin\n",
    "populer jika semakin banyak situs lain yang meletakkan link yang mengarah ke situsnya, dengan\n",
    "asumsi isi / content situs tersebut lebih berguna dari isi/content situs lain. PageRank dihitung\n",
    "dengan skala 0-10, di mana semakin besar nilai PageRank sebuah situs, maka semakin tinggi\n",
    "rankingnya. Pada PageRank, ranking tertinggi adalah 10, sementara situs-situs pemula berada\n",
    "pada PageRank 0.\n",
    "\n",
    "1. Mempersiapkan Library"
   ]
  },
  {
   "cell_type": "code",
   "execution_count": 1,
   "metadata": {},
   "outputs": [],
   "source": [
    "import numpy as np\n",
    "import networkx as nx\n",
    "import matplotlib.pyplot as plt\n",
    "%matplotlib inline"
   ]
  },
  {
   "cell_type": "markdown",
   "metadata": {},
   "source": [
    "2. Mendefinisikan Array"
   ]
  },
  {
   "cell_type": "code",
   "execution_count": 8,
   "metadata": {},
   "outputs": [],
   "source": [
    "myWeb = nx.DiGraph()\n",
    "myPages = range(1,8)"
   ]
  },
  {
   "cell_type": "markdown",
   "metadata": {},
   "source": [
    "3. Menarik garis koneksi"
   ]
  },
  {
   "cell_type": "code",
   "execution_count": 9,
   "metadata": {},
   "outputs": [],
   "source": [
    "connections = [(1,2),(2,1),(2,3),(3,7),(3,4),(4,5),(5,1),(5,6),(6,7),(7,3),(7,8),(8,1)]\n",
    "myWeb.add_nodes_from(myPages)\n",
    "myWeb.add_edges_from(connections)"
   ]
  },
  {
   "cell_type": "markdown",
   "metadata": {},
   "source": [
    "4. Melakukan Plotting"
   ]
  },
  {
   "cell_type": "code",
   "execution_count": 10,
   "metadata": {},
   "outputs": [
    {
     "data": {
      "image/png": "[encoded data removed]",
      "text/plain": [
       "<Figure size 432x288 with 1 Axes>"
      ]
     },
     "metadata": {},
     "output_type": "display_data"
    }
   ],
   "source": [
    "pos=nx.shell_layout(myWeb)\n",
    "nx.draw(myWeb, pos, arrows=True, with_labels=True)\n",
    "plt.show()"
   ]
  },
  {
   "cell_type": "markdown",
   "metadata": {},
   "source": [
    "Menerapkan PageRank"
   ]
  },
  {
   "cell_type": "code",
   "execution_count": 11,
   "metadata": {},
   "outputs": [],
   "source": [
    "def createPageRank(aGraph):\n",
    "    nodes_set = len(aGraph)\n",
    "    M = nx.to_numpy_matrix(aGraph)\n",
    "    outwards = np.squeeze(np.asarray(np.sum(M, axis=1)))\n",
    "    prob_outwards = np.array(\n",
    "        [1.0/count\n",
    "        if count>0 else 0.0 for count in outwards])\n",
    "    G = np.asarray(np.multiply(M.T, prob_outwards))\n",
    "    p = np.ones(nodes_set)/float(nodes_set)\n",
    "    if np.min(np.sum(G,axis=0)) < 1.0:\n",
    "        print('WARN : G is substochastic')\n",
    "    return G,p"
   ]
  },
  {
   "cell_type": "code",
   "execution_count": 12,
   "metadata": {},
   "outputs": [
    {
     "name": "stdout",
     "output_type": "stream",
     "text": [
      "[[0.  0.5 0.  0.  0.5 0.  0.  1. ]\n",
      " [1.  0.  0.  0.  0.  0.  0.  0. ]\n",
      " [0.  0.5 0.  0.  0.  0.  0.5 0. ]\n",
      " [0.  0.  0.5 0.  0.  0.  0.  0. ]\n",
      " [0.  0.  0.  1.  0.  0.  0.  0. ]\n",
      " [0.  0.  0.  0.  0.5 0.  0.  0. ]\n",
      " [0.  0.  0.5 0.  0.  1.  0.  0. ]\n",
      " [0.  0.  0.  0.  0.  0.  0.5 0. ]]\n"
     ]
    }
   ],
   "source": [
    "G,p = createPageRank(myWeb)\n",
    "print(G)"
   ]
  }
 ],
 "metadata": {
  "kernelspec": {
   "display_name": "Python 3",
   "language": "python",
   "name": "python3"
  },
  "language_info": {
   "codemirror_mode": {
    "name": "ipython",
    "version": 3
   },
   "file_extension": ".py",
   "mimetype": "text/x-python",
   "name": "python",
   "nbconvert_exporter": "python",
   "pygments_lexer": "ipython3",
   "version": "3.8.3"
  }
 },
 "nbformat": 4,
 "nbformat_minor": 4
}
